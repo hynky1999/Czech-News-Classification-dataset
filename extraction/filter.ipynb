{
 "cells": [
  {
   "cell_type": "code",
   "execution_count": 18,
   "metadata": {},
   "outputs": [
    {
     "name": "stdout",
     "output_type": "stream",
     "text": [
      "1627267\n",
      "dict_keys(['author', 'brief', 'category', 'comments_num', 'content', 'domain_record', 'headline', 'keywords', 'publication_date', 'url', 'additional_info'])\n"
     ]
    },
    {
     "data": {
      "application/vnd.jupyter.widget-view+json": {
       "model_id": "b2988feea67c441b822186efea654490",
       "version_major": 2,
       "version_minor": 0
      },
      "text/plain": [
       "Map (num_proc=4):   0%|          | 0/1627267 [00:00<?, ? examples/s]"
      ]
     },
     "metadata": {},
     "output_type": "display_data"
    },
    {
     "ename": "FileNotFoundError",
     "evalue": "[Errno 2] No such file or directory: 'headline_filter.txt'",
     "output_type": "error",
     "traceback": [
      "\u001b[0;31m---------------------------------------------------------------------------\u001b[0m",
      "\u001b[0;31mFileNotFoundError\u001b[0m                         Traceback (most recent call last)",
      "Cell \u001b[0;32mIn[18], line 61\u001b[0m\n\u001b[1;32m     59\u001b[0m \u001b[39m# We will postprocess string values later and cast it manually\u001b[39;00m\n\u001b[1;32m     60\u001b[0m dataset \u001b[39m=\u001b[39m dataset\u001b[39m.\u001b[39mmap(\u001b[39mlambda\u001b[39;00m batch: {\u001b[39m\"\u001b[39m\u001b[39mserver\u001b[39m\u001b[39m\"\u001b[39m: [get_server(url) \u001b[39mfor\u001b[39;00m url \u001b[39min\u001b[39;00m batch[\u001b[39m\"\u001b[39m\u001b[39murl\u001b[39m\u001b[39m\"\u001b[39m]]}, num_proc\u001b[39m=\u001b[39mNUM_PROCESS, batched\u001b[39m=\u001b[39m\u001b[39mTrue\u001b[39;00m)\n\u001b[0;32m---> 61\u001b[0m \u001b[39mwith\u001b[39;00m \u001b[39mopen\u001b[39;49m(\u001b[39m\"\u001b[39;49m\u001b[39mheadline_filter.txt\u001b[39;49m\u001b[39m\"\u001b[39;49m) \u001b[39mas\u001b[39;00m f:\n\u001b[1;32m     62\u001b[0m     headline_filters \u001b[39m=\u001b[39m \u001b[39mset\u001b[39m(f\u001b[39m.\u001b[39mread()\u001b[39m.\u001b[39msplitlines())\n",
      "File \u001b[0;32m/lnet/aic/personal/kydliceh/non_runable/NLP_venv/lib/python3.10/site-packages/IPython/core/interactiveshell.py:282\u001b[0m, in \u001b[0;36m_modified_open\u001b[0;34m(file, *args, **kwargs)\u001b[0m\n\u001b[1;32m    275\u001b[0m \u001b[39mif\u001b[39;00m file \u001b[39min\u001b[39;00m {\u001b[39m0\u001b[39m, \u001b[39m1\u001b[39m, \u001b[39m2\u001b[39m}:\n\u001b[1;32m    276\u001b[0m     \u001b[39mraise\u001b[39;00m \u001b[39mValueError\u001b[39;00m(\n\u001b[1;32m    277\u001b[0m         \u001b[39mf\u001b[39m\u001b[39m\"\u001b[39m\u001b[39mIPython won\u001b[39m\u001b[39m'\u001b[39m\u001b[39mt let you open fd=\u001b[39m\u001b[39m{\u001b[39;00mfile\u001b[39m}\u001b[39;00m\u001b[39m by default \u001b[39m\u001b[39m\"\u001b[39m\n\u001b[1;32m    278\u001b[0m         \u001b[39m\"\u001b[39m\u001b[39mas it is likely to crash IPython. If you know what you are doing, \u001b[39m\u001b[39m\"\u001b[39m\n\u001b[1;32m    279\u001b[0m         \u001b[39m\"\u001b[39m\u001b[39myou can use builtins\u001b[39m\u001b[39m'\u001b[39m\u001b[39m open.\u001b[39m\u001b[39m\"\u001b[39m\n\u001b[1;32m    280\u001b[0m     )\n\u001b[0;32m--> 282\u001b[0m \u001b[39mreturn\u001b[39;00m io_open(file, \u001b[39m*\u001b[39;49margs, \u001b[39m*\u001b[39;49m\u001b[39m*\u001b[39;49mkwargs)\n",
      "\u001b[0;31mFileNotFoundError\u001b[0m: [Errno 2] No such file or directory: 'headline_filter.txt'"
     ]
    }
   ],
   "source": [
    "import json\n",
    "from pathlib import Path\n",
    "from datetime import date \n",
    "\n",
    "NUM_PROCESS = 4\n",
    "from datasets import Dataset\n",
    "from datasets import Features, Value\n",
    "from urllib.parse import urlparse\n",
    "from datasets import Sequence\n",
    "\n",
    "\n",
    "def get_server(url):\n",
    "    parsed = urlparse(url).netloc.split(\".\")\n",
    "    server = parsed[-1]\n",
    "    if server == \"cz\":\n",
    "        server = parsed[-2]\n",
    "\n",
    "    if server == \"cz:443\":\n",
    "        server = \"aktualne\"\n",
    "\n",
    "    return server\n",
    "\n",
    "records = []\n",
    "with open(\"../records_with_add.jsonl\") as f:\n",
    "    for line in f:\n",
    "        records.append(json.loads(line))\n",
    "\n",
    "print(len(records))\n",
    "print(records[0].keys())\n",
    "\n",
    "dataset = Dataset.from_list(\n",
    "    records,\n",
    "    features=Features(\n",
    "        {\n",
    "           \"url\": Value(\"string\"),\n",
    "           \"author\": Sequence(Value(\"string\")),\n",
    "           \"headline\": Value(\"string\"),\n",
    "           \"brief\": Value(\"string\"),\n",
    "           \"publication_date\": Value(\"string\"),\n",
    "           \"keywords\": Sequence(Value(\"string\")),\n",
    "           \"category\": Value(\"string\"),\n",
    "           \"content\": Value(\"large_string\"),  \n",
    "           \"comments_num\": Value(\"int32\"),\n",
    "           \"domain_record\": {\n",
    "               \"digest\": Value(\"string\"),\n",
    "               \"encoding\": Value(\"string\"),\n",
    "               \"filename\": Value(\"string\"),\n",
    "               \"length\": Value(\"int32\"),\n",
    "               \"offset\": Value(\"int32\"),\n",
    "               \"timestamp\": Value(\"string\"),\n",
    "               \"url\": Value(\"string\"),\n",
    "           },\n",
    "           \"additional_info\": {\n",
    "               \"sets\": Sequence(Value(\"string\")),\n",
    "           }\n",
    "        }\n",
    "    )\n",
    ")\n",
    "# We will postprocess string values later and cast it manually\n",
    "dataset = dataset.map(lambda batch: {\"server\": [get_server(url) for url in batch[\"url\"]]}, num_proc=NUM_PROCESS, batched=True)"
   ]
  },
  {
   "cell_type": "code",
   "execution_count": 21,
   "metadata": {},
   "outputs": [],
   "source": [
    "with open(\"headline_filter.txt\") as f:\n",
    "    headline_filters = set(f.read().splitlines())"
   ]
  },
  {
   "cell_type": "code",
   "execution_count": 39,
   "metadata": {},
   "outputs": [
    {
     "name": "stdout",
     "output_type": "stream",
     "text": [
      "The autoreload extension is already loaded. To reload it, use:\n",
      "  %reload_ext autoreload\n"
     ]
    }
   ],
   "source": [
    "%load_ext autoreload\n",
    "%autoreload 2"
   ]
  },
  {
   "cell_type": "code",
   "execution_count": 117,
   "metadata": {},
   "outputs": [],
   "source": [
    "from postprocessing_utils import (\n",
    "    postprocess_authors,\n",
    "    add_day,\n",
    "    filter_author,\n",
    "    create_translate,\n",
    "    create_filter_by_set,\n",
    "    postprocess_brief,\n",
    "    postprocess_category,\n",
    "    postprocess_headline,\n",
    "    postprocess_date,\n",
    "    postprocess_content,\n",
    "    as_Article,\n",
    "    JSONArticleEncoder,\n",
    "    add_cum_gender,\n",
    "    create_add_gender,\n",
    "    postprocess_keywords,\n",
    "    create_none_to_x,\n",
    ")\n",
    "\n",
    "from postprocessing.authors_utils import auts \n",
    "from categories_utils import translate_cat_cz_en, translate_cat\n",
    "\n",
    "postprocessing = {\n",
    "    \"category\": [create_translate(translate_cat, lower=True), postprocess_category, create_filter_by_set(set(translate_cat_cz_en.keys()), lower=True),\n",
    "     create_translate(translate_cat_cz_en)],\n",
    "    \"authors\": [postprocess_authors, create_filter_by_set(set(auts.keys()), lower=True), create_none_to_x([])],\n",
    "    \"brief\": [postprocess_brief],\n",
    "    \"headline\": [postprocess_headline],\n",
    "    \"content\": [postprocess_content],\n",
    "    \"publication_date\": [],\n",
    "    \"keywords\": [postprocess_keywords, create_none_to_x([])]\n",
    "}"
   ]
  },
  {
   "cell_type": "code",
   "execution_count": 118,
   "metadata": {},
   "outputs": [
    {
     "data": {
      "application/vnd.jupyter.widget-view+json": {
       "model_id": "f8bce2b07dcf468cab13c4cf0a63fece",
       "version_major": 2,
       "version_minor": 0
      },
      "text/plain": [
       "Map (num_proc=4):   0%|          | 0/100 [00:00<?, ? examples/s]"
      ]
     },
     "metadata": {},
     "output_type": "display_data"
    },
    {
     "data": {
      "application/vnd.jupyter.widget-view+json": {
       "model_id": "683da46c23504bbd937a3373d72f4225",
       "version_major": 2,
       "version_minor": 0
      },
      "text/plain": [
       "Map (num_proc=4):   0%|          | 0/100 [00:00<?, ? examples/s]"
      ]
     },
     "metadata": {},
     "output_type": "display_data"
    },
    {
     "data": {
      "application/vnd.jupyter.widget-view+json": {
       "model_id": "a9db2a63aea04c16b9dda0b86d413e1b",
       "version_major": 2,
       "version_minor": 0
      },
      "text/plain": [
       "Map (num_proc=4):   0%|          | 0/100 [00:00<?, ? examples/s]"
      ]
     },
     "metadata": {},
     "output_type": "display_data"
    },
    {
     "data": {
      "application/vnd.jupyter.widget-view+json": {
       "model_id": "a9c823389af3410bbcd3099964e2fe1e",
       "version_major": 2,
       "version_minor": 0
      },
      "text/plain": [
       "Map (num_proc=4):   0%|          | 0/100 [00:00<?, ? examples/s]"
      ]
     },
     "metadata": {},
     "output_type": "display_data"
    },
    {
     "data": {
      "application/vnd.jupyter.widget-view+json": {
       "model_id": "f9ae29d659e04d38b98a0495053a0700",
       "version_major": 2,
       "version_minor": 0
      },
      "text/plain": [
       "Map (num_proc=4):   0%|          | 0/100 [00:00<?, ? examples/s]"
      ]
     },
     "metadata": {},
     "output_type": "display_data"
    },
    {
     "data": {
      "application/vnd.jupyter.widget-view+json": {
       "model_id": "a12c53c500f84049b0d9e5bd2e6496c3",
       "version_major": 2,
       "version_minor": 0
      },
      "text/plain": [
       "Map (num_proc=4):   0%|          | 0/100 [00:00<?, ? examples/s]"
      ]
     },
     "metadata": {},
     "output_type": "display_data"
    },
    {
     "data": {
      "application/vnd.jupyter.widget-view+json": {
       "model_id": "a801d63bab9649b29fde8393314fffb8",
       "version_major": 2,
       "version_minor": 0
      },
      "text/plain": [
       "Map (num_proc=4):   0%|          | 0/100 [00:00<?, ? examples/s]"
      ]
     },
     "metadata": {},
     "output_type": "display_data"
    },
    {
     "data": {
      "application/vnd.jupyter.widget-view+json": {
       "model_id": "1ebaf7d7c83e44d9bf960141d64845e9",
       "version_major": 2,
       "version_minor": 0
      },
      "text/plain": [
       "Map (num_proc=4):   0%|          | 0/100 [00:00<?, ? examples/s]"
      ]
     },
     "metadata": {},
     "output_type": "display_data"
    },
    {
     "data": {
      "application/vnd.jupyter.widget-view+json": {
       "model_id": "000ee62295994e7c8ed550be1994ff2e",
       "version_major": 2,
       "version_minor": 0
      },
      "text/plain": [
       "Map (num_proc=4):   0%|          | 0/100 [00:00<?, ? examples/s]"
      ]
     },
     "metadata": {},
     "output_type": "display_data"
    }
   ],
   "source": [
    "def to_date(date_str):\n",
    "    if date_str is None:\n",
    "        return None\n",
    "    return datetime.fromisoformat(date_str).date()\n",
    "\n",
    "from functools import reduce\n",
    "dataset_post = dataset.select(range(100))\n",
    "dataset_post = dataset_post.map(lambda batch: {\"category_unclean\": batch[\"category\"]}, batched=True, num_proc=NUM_PROCESS)\n",
    "\n",
    "\n",
    "dataset_post = dataset_post.rename_column(\"author\", \"authors\")\n",
    "\n",
    "for col, funcs in postprocessing.items():\n",
    "    dataset_post = dataset_post.map(lambda batch: {col: reduce(lambda arts, f:[ f(art) for art in arts], funcs, batch[col])}, batched=True, num_proc=NUM_PROCESS)\n",
    "\n",
    "\n",
    "\n",
    "# Convert to date\n",
    "dataset_post = dataset_post.map(\n",
    "    lambda batch: { \"date\": [to_date(dtm) for dtm in batch[\"publication_date\"]] }\n",
    "    , batched=True, batch_size=None, num_proc=NUM_PROCESS, remove_columns=[\"publication_date\"]\n",
    ")"
   ]
  },
  {
   "cell_type": "code",
   "execution_count": 120,
   "metadata": {},
   "outputs": [
    {
     "data": {
      "application/vnd.jupyter.widget-view+json": {
       "model_id": "1107b9a5658a4961a04f98a7ef985b93",
       "version_major": 2,
       "version_minor": 0
      },
      "text/plain": [
       "Map (num_proc=4):   0%|          | 0/100 [00:00<?, ? examples/s]"
      ]
     },
     "metadata": {},
     "output_type": "display_data"
    },
    {
     "data": {
      "application/vnd.jupyter.widget-view+json": {
       "model_id": "c90411e754ab477ab9e55daecade64ac",
       "version_major": 2,
       "version_minor": 0
      },
      "text/plain": [
       "Map (num_proc=4):   0%|          | 0/100 [00:00<?, ? examples/s]"
      ]
     },
     "metadata": {},
     "output_type": "display_data"
    },
    {
     "data": {
      "application/vnd.jupyter.widget-view+json": {
       "model_id": "397887ba3f974ece998da6a3c6b40c3b",
       "version_major": 2,
       "version_minor": 0
      },
      "text/plain": [
       "Map (num_proc=4):   0%|          | 0/100 [00:00<?, ? examples/s]"
      ]
     },
     "metadata": {},
     "output_type": "display_data"
    }
   ],
   "source": [
    "augmentations = {\n",
    "    \"authors_gender\": create_add_gender(auts),\n",
    "    \"authors_cum_gender\": add_cum_gender,\n",
    "    \"day_of_week\": add_day,\n",
    "}\n",
    "\n",
    "\n",
    "\n",
    "dataset_augmented = dataset_post\n",
    "\n",
    "for col, func in augmentations.items():\n",
    "    dataset_augmented = dataset_augmented.map(lambda batch: {col: func(batch)}, batched=False, num_proc=NUM_PROCESS)\n"
   ]
  },
  {
   "cell_type": "code",
   "execution_count": 64,
   "metadata": {},
   "outputs": [
    {
     "data": {
      "application/vnd.jupyter.widget-view+json": {
       "model_id": "566f9cf12b1f4a8298f3dffa95a1867d",
       "version_major": 2,
       "version_minor": 0
      },
      "text/plain": [
       "Map (num_proc=4):   0%|          | 0/100 [00:00<?, ? examples/s]"
      ]
     },
     "metadata": {},
     "output_type": "display_data"
    },
    {
     "data": {
      "application/vnd.jupyter.widget-view+json": {
       "model_id": "1346a7aceb324080891f845d26739052",
       "version_major": 2,
       "version_minor": 0
      },
      "text/plain": [
       "Casting the dataset:   0%|          | 0/100 [00:00<?, ? examples/s]"
      ]
     },
     "metadata": {},
     "output_type": "display_data"
    },
    {
     "data": {
      "application/vnd.jupyter.widget-view+json": {
       "model_id": "065b1f68fad94d7aa53b3ee3d3cf70fe",
       "version_major": 2,
       "version_minor": 0
      },
      "text/plain": [
       "Map (num_proc=4):   0%|          | 0/100 [00:00<?, ? examples/s]"
      ]
     },
     "metadata": {},
     "output_type": "display_data"
    },
    {
     "data": {
      "application/vnd.jupyter.widget-view+json": {
       "model_id": "b8ccd32213bc43fc90c71ea22a2f4f2e",
       "version_major": 2,
       "version_minor": 0
      },
      "text/plain": [
       "Casting the dataset:   0%|          | 0/100 [00:00<?, ? examples/s]"
      ]
     },
     "metadata": {},
     "output_type": "display_data"
    },
    {
     "data": {
      "application/vnd.jupyter.widget-view+json": {
       "model_id": "db8c172979a94d76933f2f3eb26b1363",
       "version_major": 2,
       "version_minor": 0
      },
      "text/plain": [
       "Map (num_proc=4):   0%|          | 0/100 [00:00<?, ? examples/s]"
      ]
     },
     "metadata": {},
     "output_type": "display_data"
    },
    {
     "data": {
      "application/vnd.jupyter.widget-view+json": {
       "model_id": "3eb9a268dd224ea58f14bc7d84f59121",
       "version_major": 2,
       "version_minor": 0
      },
      "text/plain": [
       "Casting the dataset:   0%|          | 0/100 [00:00<?, ? examples/s]"
      ]
     },
     "metadata": {},
     "output_type": "display_data"
    },
    {
     "data": {
      "application/vnd.jupyter.widget-view+json": {
       "model_id": "f9961a5ee16a41e395c807d02c7ebd0f",
       "version_major": 2,
       "version_minor": 0
      },
      "text/plain": [
       "Casting the dataset:   0%|          | 0/100 [00:00<?, ? examples/s]"
      ]
     },
     "metadata": {},
     "output_type": "display_data"
    },
    {
     "data": {
      "application/vnd.jupyter.widget-view+json": {
       "model_id": "02b77887a77e40d09ba309f1388c4d40",
       "version_major": 2,
       "version_minor": 0
      },
      "text/plain": [
       "Casting the dataset:   0%|          | 0/100 [00:00<?, ? examples/s]"
      ]
     },
     "metadata": {},
     "output_type": "display_data"
    }
   ],
   "source": [
    "NONE_LABEL = \"None\"\n",
    "\n",
    "def NoneToNoneLabel(dst, column):\n",
    "    return dst.map(lambda batch: {column: [NONE_LABEL if x is None else x for x in batch[column]]}, batched=True, num_proc=NUM_PROCESS)\n",
    "\n",
    "\n",
    "# %%\n",
    "from datasets import ClassLabel, Sequence\n",
    "features = {\n",
    "    \"category\": ClassLabel(names=[NONE_LABEL] + list(translate_cat_cz_en.values())),\n",
    "    \"authors_cum_gender\": ClassLabel(names=[NONE_LABEL, \"Man\", \"Woman\", \"Mixed\"]),\n",
    "    \"authors_gender\": Sequence(ClassLabel(names=[NONE_LABEL ,\"Man\", \"Woman\"])),\n",
    "    \"day_of_week\": ClassLabel(names=[NONE_LABEL ,\"Monday\", \"Tuesday\", \"Wednesday\", \"Thursday\", \"Friday\", \"Saturday\", \"Sunday\"]),\n",
    "    \"server\": ClassLabel(names=[NONE_LABEL, \"idnes\", \"denik\", \"aktualne\", \"irozhlas\", \"seznamzpravy\", \"novinky\"]),\n",
    "}\n",
    "\n",
    "\n",
    "\n",
    "\n",
    "# %%\n",
    "from datasets import ClassLabel, Sequence\n",
    "casted = dataset_augmented\n",
    "cast_columns = [\"category\", \"server\", \"day_of_week\"]\n",
    "for col in cast_columns:\n",
    "    casted = NoneToNoneLabel(casted, col)\n",
    "    casted = casted.cast_column(col, features[col])\n",
    "\n",
    "cast_columns = [\"authors_gender\", \"authors_cum_gender\", ]\n",
    "for col in cast_columns:\n",
    "    casted = casted.cast_column(col, features[col])\n"
   ]
  },
  {
   "cell_type": "code",
   "execution_count": 89,
   "metadata": {},
   "outputs": [],
   "source": [
    "from datasets import DatasetDict\n",
    "splits = {\n",
    "    \"human\": [],\n",
    "    \"train\": [],\n",
    "    \"test\": [],\n",
    "    \"validation\": [],\n",
    "    \"train_small\": [],\n",
    "    \"test_small\": [],\n",
    "}\n",
    "\n",
    "for i,row in enumerate(casted):\n",
    "    for split in row[\"additional_info\"][\"sets\"]:\n",
    "        splits[split].append(i)\n",
    "\n",
    "splits = {k: casted.select(v) for k,v in splits.items()}\n",
    "final = DatasetDict(splits)"
   ]
  },
  {
   "cell_type": "code",
   "execution_count": 92,
   "metadata": {},
   "outputs": [
    {
     "data": {
      "text/plain": [
       "DatasetDict({\n",
       "    human: Dataset({\n",
       "        features: ['authors', 'brief', 'category', 'comments_num', 'content', 'headline', 'keywords', 'url', 'server', 'category_unclean', 'date', 'authors_gender', 'authors_cum_gender', 'day_of_week'],\n",
       "        num_rows: 0\n",
       "    })\n",
       "    train: Dataset({\n",
       "        features: ['authors', 'brief', 'category', 'comments_num', 'content', 'headline', 'keywords', 'url', 'server', 'category_unclean', 'date', 'authors_gender', 'authors_cum_gender', 'day_of_week'],\n",
       "        num_rows: 88\n",
       "    })\n",
       "    test: Dataset({\n",
       "        features: ['authors', 'brief', 'category', 'comments_num', 'content', 'headline', 'keywords', 'url', 'server', 'category_unclean', 'date', 'authors_gender', 'authors_cum_gender', 'day_of_week'],\n",
       "        num_rows: 5\n",
       "    })\n",
       "    validation: Dataset({\n",
       "        features: ['authors', 'brief', 'category', 'comments_num', 'content', 'headline', 'keywords', 'url', 'server', 'category_unclean', 'date', 'authors_gender', 'authors_cum_gender', 'day_of_week'],\n",
       "        num_rows: 7\n",
       "    })\n",
       "    train_small: Dataset({\n",
       "        features: ['authors', 'brief', 'category', 'comments_num', 'content', 'headline', 'keywords', 'url', 'server', 'category_unclean', 'date', 'authors_gender', 'authors_cum_gender', 'day_of_week'],\n",
       "        num_rows: 3\n",
       "    })\n",
       "    test_small: Dataset({\n",
       "        features: ['authors', 'brief', 'category', 'comments_num', 'content', 'headline', 'keywords', 'url', 'server', 'category_unclean', 'date', 'authors_gender', 'authors_cum_gender', 'day_of_week'],\n",
       "        num_rows: 2\n",
       "    })\n",
       "})"
      ]
     },
     "execution_count": 92,
     "metadata": {},
     "output_type": "execute_result"
    }
   ],
   "source": [
    "final.remove_columns([\"additional_info\", \"domain_record\"])"
   ]
  },
  {
   "cell_type": "code",
   "execution_count": 94,
   "metadata": {},
   "outputs": [
    {
     "data": {
      "text/plain": [
       "{'authors': Sequence(feature=Value(dtype='string', id=None), length=-1, id=None),\n",
       " 'brief': Value(dtype='string', id=None),\n",
       " 'category': ClassLabel(names=['None', 'Krimi', 'Výtvarné umění', 'Kultura', 'Bydlení', 'Technologie', 'Podcasty', 'Ekonomika', 'Auto', 'Byznys', 'Kolo', 'Věda', 'Koktejl', 'Komentáře', 'Literatura', 'Cestování', 'Podnikání', 'Revue', 'Finance', 'Rozhovory', 'Sport', 'Vánoce', 'Koronavirus', 'Životní styl', 'Domácí', 'Zahraniční'], id=None),\n",
       " 'comments_num': Value(dtype='int32', id=None),\n",
       " 'content': Value(dtype='large_string', id=None),\n",
       " 'domain_record': {'digest': Value(dtype='string', id=None),\n",
       "  'encoding': Value(dtype='string', id=None),\n",
       "  'filename': Value(dtype='string', id=None),\n",
       "  'length': Value(dtype='int32', id=None),\n",
       "  'offset': Value(dtype='int32', id=None),\n",
       "  'timestamp': Value(dtype='string', id=None),\n",
       "  'url': Value(dtype='string', id=None)},\n",
       " 'headline': Value(dtype='string', id=None),\n",
       " 'keywords': Sequence(feature=Value(dtype='string', id=None), length=-1, id=None),\n",
       " 'url': Value(dtype='string', id=None),\n",
       " 'additional_info': {'sets': Sequence(feature=Value(dtype='string', id=None), length=-1, id=None)},\n",
       " 'server': ClassLabel(names=['None', 'idnes', 'denik', 'aktualne', 'irozhlas', 'seznamzpravy', 'novinky'], id=None),\n",
       " 'category_unclean': Value(dtype='string', id=None),\n",
       " 'date': Value(dtype='date32', id=None),\n",
       " 'authors_gender': Sequence(feature=ClassLabel(names=['None', 'Man', 'Woman'], id=None), length=-1, id=None),\n",
       " 'authors_cum_gender': ClassLabel(names=['None', 'Man', 'Woman', 'Mixed'], id=None),\n",
       " 'day_of_week': ClassLabel(names=['None', 'Monday', 'Tuesday', 'Wednesday', 'Thursday', 'Friday', 'Saturday', 'Sunday'], id=None)}"
      ]
     },
     "execution_count": 94,
     "metadata": {},
     "output_type": "execute_result"
    }
   ],
   "source": [
    "final[\"train\"].features"
   ]
  },
  {
   "cell_type": "code",
   "execution_count": 91,
   "metadata": {},
   "outputs": [
    {
     "data": {
      "application/vnd.jupyter.widget-view+json": {
       "model_id": "b6367e39c96a464fac63f23369f7d879",
       "version_major": 2,
       "version_minor": 0
      },
      "text/plain": [
       "Saving the dataset (0/1 shards): 0 examples [00:00, ? examples/s]"
      ]
     },
     "metadata": {},
     "output_type": "display_data"
    },
    {
     "data": {
      "application/vnd.jupyter.widget-view+json": {
       "model_id": "1de56a862b6249fa92b6fc9f9fa05d78",
       "version_major": 2,
       "version_minor": 0
      },
      "text/plain": [
       "Flattening the indices:   0%|          | 0/88 [00:00<?, ? examples/s]"
      ]
     },
     "metadata": {},
     "output_type": "display_data"
    },
    {
     "data": {
      "application/vnd.jupyter.widget-view+json": {
       "model_id": "dc1e818c5b5f4952b42020c6423dd92a",
       "version_major": 2,
       "version_minor": 0
      },
      "text/plain": [
       "Saving the dataset (0/1 shards):   0%|          | 0/88 [00:00<?, ? examples/s]"
      ]
     },
     "metadata": {},
     "output_type": "display_data"
    },
    {
     "data": {
      "application/vnd.jupyter.widget-view+json": {
       "model_id": "030d2113bbfa4af8bca64aab74dcb572",
       "version_major": 2,
       "version_minor": 0
      },
      "text/plain": [
       "Flattening the indices:   0%|          | 0/5 [00:00<?, ? examples/s]"
      ]
     },
     "metadata": {},
     "output_type": "display_data"
    },
    {
     "data": {
      "application/vnd.jupyter.widget-view+json": {
       "model_id": "503e8efbd0b740099b6f9d4abde7a70f",
       "version_major": 2,
       "version_minor": 0
      },
      "text/plain": [
       "Saving the dataset (0/1 shards):   0%|          | 0/5 [00:00<?, ? examples/s]"
      ]
     },
     "metadata": {},
     "output_type": "display_data"
    },
    {
     "data": {
      "application/vnd.jupyter.widget-view+json": {
       "model_id": "7b111719792a4bbba16cca1728ebf850",
       "version_major": 2,
       "version_minor": 0
      },
      "text/plain": [
       "Flattening the indices:   0%|          | 0/7 [00:00<?, ? examples/s]"
      ]
     },
     "metadata": {},
     "output_type": "display_data"
    },
    {
     "data": {
      "application/vnd.jupyter.widget-view+json": {
       "model_id": "ff7aecb649894a52be3ffeb468acd690",
       "version_major": 2,
       "version_minor": 0
      },
      "text/plain": [
       "Saving the dataset (0/1 shards):   0%|          | 0/7 [00:00<?, ? examples/s]"
      ]
     },
     "metadata": {},
     "output_type": "display_data"
    },
    {
     "data": {
      "application/vnd.jupyter.widget-view+json": {
       "model_id": "4385fb73b9e94a4883768ad6fc235cbb",
       "version_major": 2,
       "version_minor": 0
      },
      "text/plain": [
       "Flattening the indices:   0%|          | 0/3 [00:00<?, ? examples/s]"
      ]
     },
     "metadata": {},
     "output_type": "display_data"
    },
    {
     "data": {
      "application/vnd.jupyter.widget-view+json": {
       "model_id": "c444138d3a794c72992b1786c8c4acc2",
       "version_major": 2,
       "version_minor": 0
      },
      "text/plain": [
       "Saving the dataset (0/1 shards):   0%|          | 0/3 [00:00<?, ? examples/s]"
      ]
     },
     "metadata": {},
     "output_type": "display_data"
    },
    {
     "data": {
      "application/vnd.jupyter.widget-view+json": {
       "model_id": "97867a54cb50471babd25de216550a98",
       "version_major": 2,
       "version_minor": 0
      },
      "text/plain": [
       "Flattening the indices:   0%|          | 0/2 [00:00<?, ? examples/s]"
      ]
     },
     "metadata": {},
     "output_type": "display_data"
    },
    {
     "data": {
      "application/vnd.jupyter.widget-view+json": {
       "model_id": "9089b9d537f0469eaac6d47e4934a86f",
       "version_major": 2,
       "version_minor": 0
      },
      "text/plain": [
       "Saving the dataset (0/1 shards):   0%|          | 0/2 [00:00<?, ? examples/s]"
      ]
     },
     "metadata": {},
     "output_type": "display_data"
    }
   ],
   "source": [
    "final.save_to_disk(\"final_dataset\")"
   ]
  }
 ],
 "metadata": {
  "kernelspec": {
   "display_name": "Python 3 (ipykernel)",
   "language": "python",
   "name": "python3"
  },
  "language_info": {
   "codemirror_mode": {
    "name": "ipython",
    "version": 3
   },
   "file_extension": ".py",
   "mimetype": "text/x-python",
   "name": "python",
   "nbconvert_exporter": "python",
   "pygments_lexer": "ipython3",
   "version": "3.10.4"
  },
  "orig_nbformat": 4
 },
 "nbformat": 4,
 "nbformat_minor": 2
}
